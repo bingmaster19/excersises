{
  "cells": [
    {
      "cell_type": "code",
      "execution_count": 65,
      "metadata": {
        "trusted": true
      },
      "outputs": [
        {
          "data": {
            "text/plain": [
              "'\\nA given number N is said to be a Curzon Number if 2^N + 1 is divisible by 2*N + 1.\\nRead in a number and find the next Curzon number!\\nKing\\'s plan;\\nstep 1 --> first I will create a function, this will ensure we identify if the given input is a curzon number.\\nstep 2 --> Secondly, I will create function to find the next curzon after given number using \"while\" function to continue counting. \\nstep 3 --> next, I will print and inform user whether input was a curzon number\\nstep 4 --> I will show calculations as output to user to confirm whether or not given input was a curzon number\\n'"
            ]
          },
          "execution_count": 65,
          "metadata": {},
          "output_type": "execute_result"
        }
      ],
      "source": [
        "\"\"\"\n",
        "A given number N is said to be a Curzon Number if 2^N + 1 is divisible by 2*N + 1.\n",
        "Read in a number and find the next Curzon number!\n",
        "King's plan;\n",
        "step 1 --> first I will create a function, this will ensure we identify if the given input is a curzon number.\n",
        "step 2 --> Secondly, I will create function to find the next curzon after given number using \"while\" function to continue counting. \n",
        "step 3 --> next, I will print and inform user whether input was a curzon number\n",
        "step 4 --> I will show calculations as output to user to confirm whether or not given input was a curzon number\n",
        "\"\"\"\n"
      ]
    },
    {
      "cell_type": "code",
      "execution_count": 66,
      "metadata": {},
      "outputs": [],
      "source": [
        "# answer from user \n",
        "input_number = int(input(\"Enter a number: \"))"
      ]
    },
    {
      "cell_type": "code",
      "execution_count": 67,
      "metadata": {},
      "outputs": [],
      "source": [
        "def is_curzon_number(n):\n",
        "    \"\"\"\n",
        "    Checks if a given number is a Curzon number.\n",
        "    excersise title; A given number N is said to be a Curzon Number if 2^N + 1 is divisible by 2*N + 1.\n",
        "    Read in a number and find the next Curzon number!\n",
        "    \n",
        "    nummer --> number\n",
        "    deler --> denominator\n",
        "    \"\"\"\n",
        "    nummer = 2 ** n + 1\n",
        "    deler = 2 * n + 1\n",
        "    space = \" \"\n",
        "    \n",
        "    if nummer % deler == 0:\n",
        "        print (f\"Input {n} is a curzon number\")\n",
        "        print (f\"2 ** {n} + 1 = {nummer}\")\n",
        "        print (f\"2 * {n} + 1 = {deler}\")\n",
        "        print (f\"{nummer} IS a multiple of {deler}\")\n",
        "        print (space)\n",
        "        return True\n",
        "    else:\n",
        "        print (f\"Input {n} is not a Curzon number\")\n",
        "        print (f\"2 ** {n} + 1 = {nummer}\")\n",
        "        print (f\"2 * {n} + 1 = {deler}\")\n",
        "        print (f\"{nummer} is NOT a multiple of {deler}\")\n",
        "        print (space)\n",
        "        return False\n"
      ]
    },
    {
      "cell_type": "code",
      "execution_count": 68,
      "metadata": {},
      "outputs": [],
      "source": [
        "def next_curzon_number(num):\n",
        "    \"\"\"\n",
        "    Finds the next Curzon number after a given number.\n",
        "    int: The next Curzon number after the given number.\n",
        "    \"\"\"\n",
        "    next_number = num + 1\n",
        "    while True:\n",
        "        if is_curzon_number(next_number):\n",
        "            return next_number\n",
        "        next_number += 1"
      ]
    },
    {
      "cell_type": "code",
      "execution_count": 69,
      "metadata": {},
      "outputs": [
        {
          "name": "stdout",
          "output_type": "stream",
          "text": [
            "Input 10 is not a Curzon number\n",
            "2 ** 10 + 1 = 1025\n",
            "2 * 10 + 1 = 21\n",
            "1025 is NOT a multiple of 21\n",
            " \n",
            "Input 11 is not a Curzon number\n",
            "2 ** 11 + 1 = 2049\n",
            "2 * 11 + 1 = 23\n",
            "2049 is NOT a multiple of 23\n",
            " \n",
            "Input 12 is not a Curzon number\n",
            "2 ** 12 + 1 = 4097\n",
            "2 * 12 + 1 = 25\n",
            "4097 is NOT a multiple of 25\n",
            " \n",
            "Input 13 is not a Curzon number\n",
            "2 ** 13 + 1 = 8193\n",
            "2 * 13 + 1 = 27\n",
            "8193 is NOT a multiple of 27\n",
            " \n",
            "Input 14 is a curzon number\n",
            "2 ** 14 + 1 = 16385\n",
            "2 * 14 + 1 = 29\n",
            "16385 IS a multiple of 29\n",
            " \n",
            "The next Curzon number after 9 is: 14\n"
          ]
        }
      ],
      "source": [
        "next_curzon = next_curzon_number(input_number)\n",
        "print(\"The next Curzon number after\", input_number, \"is:\", next_curzon)"
      ]
    }
  ],
  "metadata": {
    "kernelspec": {
      "display_name": "Python 3",
      "language": "python",
      "name": "python3"
    },
    "language_info": {
      "codemirror_mode": {
        "name": "ipython",
        "version": 3
      },
      "file_extension": ".py",
      "mimetype": "text/x-python",
      "name": "python",
      "nbconvert_exporter": "python",
      "pygments_lexer": "ipython3",
      "version": "3.12.2"
    }
  },
  "nbformat": 4,
  "nbformat_minor": 4
}
