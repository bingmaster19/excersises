{
  "cells": [
    {
      "cell_type": "code",
      "execution_count": 122,
      "metadata": {
        "trusted": true
      },
      "outputs": [],
      "source": [
        "#King's plan;\n",
        "#step 1 --> first I will create a function, this will ensure we identify if the given input is a prime number.\n",
        "#I will also add an input question from user.\n",
        "#step 2 --> Secondly, I will calculate all divisors of given input and print them.(didn't work out as planned :/)\n",
        "#step 3 --> \n"
      ]
    },
    {
      "cell_type": "code",
      "execution_count": null,
      "metadata": {},
      "outputs": [],
      "source": [
        "\"\"\"\n",
        "assignment; A prime number is an integer larger than 1, which only has 2 integers by which it is divisible: 1 and itself. \n",
        "If the number is no prime, output all its divisors.    \n",
        "\"\"\"   "
      ]
    },
    {
      "cell_type": "code",
      "execution_count": 124,
      "metadata": {},
      "outputs": [],
      "source": [
        "n = 0\n",
        "prime_number_input = int(input(\"What number do you want? \"))"
      ]
    },
    {
      "cell_type": "code",
      "execution_count": 125,
      "metadata": {},
      "outputs": [],
      "source": [
        " # calculate divisors, done with help I was struggling with finding an eficient way to do this so had to use reddit and Git.\n",
        " # still doesn't work sadly :/\n",
        "def find_divisors(prime_number_input):    \n",
        "        divisors = []\n",
        "        for i in range(1, prime_number_input + 1):\n",
        "            if prime_number_input % i == 0:\n",
        "                divisors.append(i)\n",
        "        return divisors "
      ]
    },
    {
      "cell_type": "code",
      "execution_count": 126,
      "metadata": {},
      "outputs": [
        {
          "name": "stdout",
          "output_type": "stream",
          "text": [
            "It's not a prime number.\n",
            "False\n"
          ]
        },
        {
          "data": {
            "text/plain": [
              "[1]"
            ]
          },
          "execution_count": 126,
          "metadata": {},
          "output_type": "execute_result"
        }
      ],
      "source": [
        "for number in range(2, prime_number_input):\n",
        "    if prime_number_input % number == 0:\n",
        "        n = 1 \n",
        "        break\n",
        "          \n",
        "def prime_number():\n",
        "    if n == 1 and prime_number_input != 2: \n",
        "        print (\"It's not a prime number.\")\n",
        "        print (\"False\")\n",
        "        \n",
        "    else:\n",
        "        print (\"It's a prime number.\")\n",
        "        print (\"True\")\n",
        "\n",
        "# Call the prime_number function after the loop\n",
        "prime_number()\n",
        "find_divisors(n)"
      ]
    }
  ],
  "metadata": {
    "kernelspec": {
      "display_name": "Python 3",
      "language": "python",
      "name": "python3"
    },
    "language_info": {
      "codemirror_mode": {
        "name": "ipython",
        "version": 3
      },
      "file_extension": ".py",
      "mimetype": "text/x-python",
      "name": "python",
      "nbconvert_exporter": "python",
      "pygments_lexer": "ipython3",
      "version": "3.12.2"
    }
  },
  "nbformat": 4,
  "nbformat_minor": 4
}
