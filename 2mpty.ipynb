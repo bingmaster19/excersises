{
  "cells": [
    {
      "cell_type": "code",
      "execution_count": 6,
      "metadata": {
        "trusted": true
      },
      "outputs": [
        {
          "data": {
            "text/plain": [
              "'\\nA given number N is said to be a Curzon Number if 2^N + 1 is divisible by 2*N + 1.\\nRead in a number and find the next Curzon number!\\n'"
            ]
          },
          "execution_count": 6,
          "metadata": {},
          "output_type": "execute_result"
        }
      ],
      "source": [
        "\"\"\"\n",
        "A given number N is said to be a Curzon Number if 2^N + 1 is divisible by 2*N + 1.\n",
        "Read in a number and find the next Curzon number!\n",
        "\"\"\"\n"
      ]
    },
    {
      "cell_type": "code",
      "execution_count": 7,
      "metadata": {},
      "outputs": [],
      "source": [
        "def is_curzon_number(n):\n",
        "    \"\"\"\n",
        "    Checks if a given number is a Curzon number.\n",
        "    excersise title; A given number N is said to be a Curzon Number if 2^N + 1 is divisible by 2*N + 1.\n",
        "    Read in a number and find the next Curzon number!\n",
        "    \n",
        "    nummer --> number\n",
        "    deler --> denominator\n",
        "    \"\"\"\n",
        "    \n",
        "    nummer = 2 ** n + 1\n",
        "    deler = 2 * n + 1\n",
        "    return nummer % deler == 0"
      ]
    },
    {
      "cell_type": "code",
      "execution_count": 8,
      "metadata": {},
      "outputs": [],
      "source": [
        "def next_curzon_number(num):\n",
        "    \"\"\"\n",
        "    Finds the next Curzon number after a given number.\n",
        "    int: The next Curzon number after the given number.\n",
        "    \"\"\"\n",
        "    next_number = num + 1\n",
        "    while True:\n",
        "        if is_curzon_number(next_number):\n",
        "            return next_number\n",
        "        next_number += 1"
      ]
    },
    {
      "cell_type": "code",
      "execution_count": 9,
      "metadata": {},
      "outputs": [
        {
          "name": "stdout",
          "output_type": "stream",
          "text": [
            "The next Curzon number after 12 is: 14\n"
          ]
        }
      ],
      "source": [
        "# answer from user \n",
        "input_number = int(input(\"Enter a number: \"))\n",
        "next_curzon = next_curzon_number(input_number)\n",
        "print(\"The next Curzon number after\", input_number, \"is:\", next_curzon)"
      ]
    }
  ],
  "metadata": {
    "kernelspec": {
      "display_name": "Python 3",
      "language": "python",
      "name": "python3"
    },
    "language_info": {
      "codemirror_mode": {
        "name": "ipython",
        "version": 3
      },
      "file_extension": ".py",
      "mimetype": "text/x-python",
      "name": "python",
      "nbconvert_exporter": "python",
      "pygments_lexer": "ipython3",
      "version": "3.12.2"
    }
  },
  "nbformat": 4,
  "nbformat_minor": 4
}
